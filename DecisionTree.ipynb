{
  "nbformat": 4,
  "nbformat_minor": 0,
  "metadata": {
    "colab": {
      "provenance": [],
      "toc_visible": true
    },
    "kernelspec": {
      "name": "python3",
      "display_name": "Python 3"
    },
    "language_info": {
      "name": "python"
    }
  },
  "cells": [
    {
      "cell_type": "code",
      "execution_count": 17,
      "metadata": {
        "id": "5aY5UjigLiHV"
      },
      "outputs": [],
      "source": [
        "from sklearn import tree, preprocessing, metrics\n",
        "import pandas as pd\n",
        "import matplotlib.pyplot as plt\n",
        "from sklearn.model_selection import train_test_split"
      ]
    },
    {
      "cell_type": "code",
      "source": [
        "file = pd.read_csv('50_Startups.csv')\n",
        "my_data = pd.DataFrame(file).to_numpy()\n",
        "my_data.shape"
      ],
      "metadata": {
        "colab": {
          "base_uri": "https://localhost:8080/"
        },
        "id": "R8PEQG8-zgdp",
        "outputId": "25338805-8b51-4338-88ce-d51ef3176430"
      },
      "execution_count": 18,
      "outputs": [
        {
          "output_type": "execute_result",
          "data": {
            "text/plain": [
              "(50, 5)"
            ]
          },
          "metadata": {},
          "execution_count": 18
        }
      ]
    },
    {
      "cell_type": "code",
      "source": [
        "label_encoder = preprocessing.LabelEncoder()\n",
        "my_data[:,3] = label_encoder.fit_transform(my_data[:,3])\n",
        "my_data"
      ],
      "metadata": {
        "colab": {
          "base_uri": "https://localhost:8080/"
        },
        "id": "RYdVRkhWHHWg",
        "outputId": "f177b79c-840d-4371-b5ea-58a57b7de302"
      },
      "execution_count": 19,
      "outputs": [
        {
          "output_type": "execute_result",
          "data": {
            "text/plain": [
              "array([[165349.2, 136897.8, 471784.1, 2, 192261.83],\n",
              "       [162597.7, 151377.59, 443898.53, 0, 191792.06],\n",
              "       [153441.51, 101145.55, 407934.54, 1, 191050.39],\n",
              "       [144372.41, 118671.85, 383199.62, 2, 182901.99],\n",
              "       [142107.34, 91391.77, 366168.42, 1, 166187.94],\n",
              "       [131876.9, 99814.71, 362861.36, 2, 156991.12],\n",
              "       [134615.46, 147198.87, 127716.82, 0, 156122.51],\n",
              "       [130298.13, 145530.06, 323876.68, 1, 155752.6],\n",
              "       [120542.52, 148718.95, 311613.29, 2, 152211.77],\n",
              "       [123334.88, 108679.17, 304981.62, 0, 149759.96],\n",
              "       [101913.08, 110594.11, 229160.95, 1, 146121.95],\n",
              "       [100671.96, 91790.61, 249744.55, 0, 144259.4],\n",
              "       [93863.75, 127320.38, 249839.44, 1, 141585.52],\n",
              "       [91992.39, 135495.07, 252664.93, 0, 134307.35],\n",
              "       [119943.24, 156547.42, 256512.92, 1, 132602.65],\n",
              "       [114523.61, 122616.84, 261776.23, 2, 129917.04],\n",
              "       [78013.11, 121597.55, 264346.06, 0, 126992.93],\n",
              "       [94657.16, 145077.58, 282574.31, 2, 125370.37],\n",
              "       [91749.16, 114175.79, 294919.57, 1, 124266.9],\n",
              "       [86419.7, 153514.11, 0.0, 2, 122776.86],\n",
              "       [76253.86, 113867.3, 298664.47, 0, 118474.03],\n",
              "       [78389.47, 153773.43, 299737.29, 2, 111313.02],\n",
              "       [73994.56, 122782.75, 303319.26, 1, 110352.25],\n",
              "       [67532.53, 105751.03, 304768.73, 1, 108733.99],\n",
              "       [77044.01, 99281.34, 140574.81, 2, 108552.04],\n",
              "       [64664.71, 139553.16, 137962.62, 0, 107404.34],\n",
              "       [75328.87, 144135.98, 134050.07, 1, 105733.54],\n",
              "       [72107.6, 127864.55, 353183.81, 2, 105008.31],\n",
              "       [66051.52, 182645.56, 118148.2, 1, 103282.38],\n",
              "       [65605.48, 153032.06, 107138.38, 2, 101004.64],\n",
              "       [61994.48, 115641.28, 91131.24, 1, 99937.59],\n",
              "       [61136.38, 152701.92, 88218.23, 2, 97483.56],\n",
              "       [63408.86, 129219.61, 46085.25, 0, 97427.84],\n",
              "       [55493.95, 103057.49, 214634.81, 1, 96778.92],\n",
              "       [46426.07, 157693.92, 210797.67, 0, 96712.8],\n",
              "       [46014.02, 85047.44, 205517.64, 2, 96479.51],\n",
              "       [28663.76, 127056.21, 201126.82, 1, 90708.19],\n",
              "       [44069.95, 51283.14, 197029.42, 0, 89949.14],\n",
              "       [20229.59, 65947.93, 185265.1, 2, 81229.06],\n",
              "       [38558.51, 82982.09, 174999.3, 0, 81005.76],\n",
              "       [28754.33, 118546.05, 172795.67, 0, 78239.91],\n",
              "       [27892.92, 84710.77, 164470.71, 1, 77798.83],\n",
              "       [23640.93, 96189.63, 148001.11, 0, 71498.49],\n",
              "       [15505.73, 127382.3, 35534.17, 2, 69758.98],\n",
              "       [22177.74, 154806.14, 28334.72, 0, 65200.33],\n",
              "       [1000.23, 124153.04, 1903.93, 2, 64926.08],\n",
              "       [1315.46, 115816.21, 297114.46, 1, 49490.75],\n",
              "       [0.0, 135426.92, 0.0, 0, 42559.73],\n",
              "       [542.05, 51743.15, 0.0, 2, 35673.41],\n",
              "       [0.0, 116983.8, 45173.06, 0, 14681.4]], dtype=object)"
            ]
          },
          "metadata": {},
          "execution_count": 19
        }
      ]
    },
    {
      "cell_type": "code",
      "source": [
        "X = my_data[:,:4]\n",
        "y = my_data[:,-1]"
      ],
      "metadata": {
        "id": "6i4aiT74Op0a"
      },
      "execution_count": 20,
      "outputs": []
    },
    {
      "cell_type": "code",
      "source": [
        "X_train, X_test, y_train, y_test = train_test_split(X, y, test_size = 0.20)"
      ],
      "metadata": {
        "id": "IrqwxdTY1Avr"
      },
      "execution_count": 21,
      "outputs": []
    },
    {
      "cell_type": "code",
      "source": [
        "print(X_train.shape, X_test.shape, y_train.shape, y_test.shape)"
      ],
      "metadata": {
        "colab": {
          "base_uri": "https://localhost:8080/"
        },
        "id": "DMJ79HRW29PE",
        "outputId": "e1b8c4d6-c95c-4a83-92ce-dc91e6a16eed"
      },
      "execution_count": 22,
      "outputs": [
        {
          "output_type": "stream",
          "name": "stdout",
          "text": [
            "(40, 4) (10, 4) (40,) (10,)\n"
          ]
        }
      ]
    },
    {
      "cell_type": "code",
      "source": [
        "my_prof = tree.DecisionTreeRegressor(min_samples_leaf = 4, min_samples_split = 4, random_state=0)\n",
        "my_prof.fit(X_train, y_train)"
      ],
      "metadata": {
        "id": "6PZttNk33YGh",
        "colab": {
          "base_uri": "https://localhost:8080/"
        },
        "outputId": "05e3d64e-5861-4295-d43a-571fe4565b12"
      },
      "execution_count": 23,
      "outputs": [
        {
          "output_type": "execute_result",
          "data": {
            "text/plain": [
              "DecisionTreeRegressor(min_samples_leaf=4, min_samples_split=4, random_state=0)"
            ]
          },
          "metadata": {},
          "execution_count": 23
        }
      ]
    },
    {
      "cell_type": "code",
      "source": [
        "y_predict = my_prof.predict(X_test)"
      ],
      "metadata": {
        "id": "ra2GHcET33jZ"
      },
      "execution_count": 24,
      "outputs": []
    },
    {
      "cell_type": "code",
      "source": [
        "print('Train score =', my_prof.score(X_train, y_train))\n",
        "print('Test score =', my_prof.score(X_test, y_test))\n",
        "print('The MAE is:', metrics.mean_absolute_error(y_predict, y_test))"
      ],
      "metadata": {
        "colab": {
          "base_uri": "https://localhost:8080/"
        },
        "id": "NqLpGrev38mq",
        "outputId": "a5293360-b219-4048-b461-2fa899eda561"
      },
      "execution_count": 25,
      "outputs": [
        {
          "output_type": "stream",
          "name": "stdout",
          "text": [
            "Train score = 0.9498507297442469\n",
            "Test score = 0.9405123690844598\n",
            "The MAE is: 6764.476599999997\n"
          ]
        }
      ]
    }
  ]
}